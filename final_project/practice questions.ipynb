{
 "cells": [
  {
   "cell_type": "markdown",
   "metadata": {},
   "source": [
    "# importing the enron data as a unix file\n",
    "### finding the answers of the questions in chapter dataset questions"
   ]
  },
  {
   "cell_type": "code",
   "execution_count": 1,
   "metadata": {},
   "outputs": [],
   "source": [
    "import pickle\n",
    "\n",
    "enron_data = pickle.load(open(\"../final_project/final_project_dataset_unix.pkl\", \"rb\"))\n",
    "\n",
    "import pandas as pd \n",
    "df = pd.DataFrame(enron_data)\n"
   ]
  },
  {
   "cell_type": "code",
   "execution_count": 2,
   "metadata": {},
   "outputs": [
    {
     "data": {
      "text/html": [
       "<div>\n",
       "<style scoped>\n",
       "    .dataframe tbody tr th:only-of-type {\n",
       "        vertical-align: middle;\n",
       "    }\n",
       "\n",
       "    .dataframe tbody tr th {\n",
       "        vertical-align: top;\n",
       "    }\n",
       "\n",
       "    .dataframe thead th {\n",
       "        text-align: right;\n",
       "    }\n",
       "</style>\n",
       "<table border=\"1\" class=\"dataframe\">\n",
       "  <thead>\n",
       "    <tr style=\"text-align: right;\">\n",
       "      <th></th>\n",
       "      <th>METTS MARK</th>\n",
       "      <th>BAXTER JOHN C</th>\n",
       "      <th>ELLIOTT STEVEN</th>\n",
       "      <th>CORDES WILLIAM R</th>\n",
       "      <th>HANNON KEVIN P</th>\n",
       "      <th>MORDAUNT KRISTINA M</th>\n",
       "      <th>MEYER ROCKFORD G</th>\n",
       "      <th>MCMAHON JEFFREY</th>\n",
       "      <th>HAEDICKE MARK E</th>\n",
       "      <th>PIPER GREGORY F</th>\n",
       "      <th>...</th>\n",
       "      <th>SAVAGE FRANK</th>\n",
       "      <th>IZZO LAWRENCE L</th>\n",
       "      <th>TILNEY ELIZABETH A</th>\n",
       "      <th>MARTIN AMANDA K</th>\n",
       "      <th>BUY RICHARD B</th>\n",
       "      <th>GRAMM WENDY L</th>\n",
       "      <th>CAUSEY RICHARD A</th>\n",
       "      <th>TAYLOR MITCHELL S</th>\n",
       "      <th>DONAHUE JR JEFFREY M</th>\n",
       "      <th>GLISAN JR BEN F</th>\n",
       "    </tr>\n",
       "  </thead>\n",
       "  <tbody>\n",
       "    <tr>\n",
       "      <td>salary</td>\n",
       "      <td>365788</td>\n",
       "      <td>267102</td>\n",
       "      <td>170941</td>\n",
       "      <td>NaN</td>\n",
       "      <td>243293</td>\n",
       "      <td>267093</td>\n",
       "      <td>NaN</td>\n",
       "      <td>370448</td>\n",
       "      <td>374125</td>\n",
       "      <td>197091</td>\n",
       "      <td>...</td>\n",
       "      <td>NaN</td>\n",
       "      <td>85274</td>\n",
       "      <td>247338</td>\n",
       "      <td>349487</td>\n",
       "      <td>330546</td>\n",
       "      <td>NaN</td>\n",
       "      <td>415189</td>\n",
       "      <td>265214</td>\n",
       "      <td>278601</td>\n",
       "      <td>274975</td>\n",
       "    </tr>\n",
       "    <tr>\n",
       "      <td>to_messages</td>\n",
       "      <td>807</td>\n",
       "      <td>NaN</td>\n",
       "      <td>NaN</td>\n",
       "      <td>764</td>\n",
       "      <td>1045</td>\n",
       "      <td>NaN</td>\n",
       "      <td>232</td>\n",
       "      <td>2355</td>\n",
       "      <td>4009</td>\n",
       "      <td>1238</td>\n",
       "      <td>...</td>\n",
       "      <td>NaN</td>\n",
       "      <td>496</td>\n",
       "      <td>460</td>\n",
       "      <td>1522</td>\n",
       "      <td>3523</td>\n",
       "      <td>NaN</td>\n",
       "      <td>1892</td>\n",
       "      <td>533</td>\n",
       "      <td>865</td>\n",
       "      <td>873</td>\n",
       "    </tr>\n",
       "    <tr>\n",
       "      <td>deferral_payments</td>\n",
       "      <td>NaN</td>\n",
       "      <td>1295738</td>\n",
       "      <td>NaN</td>\n",
       "      <td>NaN</td>\n",
       "      <td>NaN</td>\n",
       "      <td>NaN</td>\n",
       "      <td>1848227</td>\n",
       "      <td>NaN</td>\n",
       "      <td>2157527</td>\n",
       "      <td>1130036</td>\n",
       "      <td>...</td>\n",
       "      <td>NaN</td>\n",
       "      <td>NaN</td>\n",
       "      <td>NaN</td>\n",
       "      <td>85430</td>\n",
       "      <td>649584</td>\n",
       "      <td>NaN</td>\n",
       "      <td>NaN</td>\n",
       "      <td>227449</td>\n",
       "      <td>NaN</td>\n",
       "      <td>NaN</td>\n",
       "    </tr>\n",
       "    <tr>\n",
       "      <td>total_payments</td>\n",
       "      <td>1061827</td>\n",
       "      <td>5634343</td>\n",
       "      <td>211725</td>\n",
       "      <td>NaN</td>\n",
       "      <td>288682</td>\n",
       "      <td>628522</td>\n",
       "      <td>1848227</td>\n",
       "      <td>4099771</td>\n",
       "      <td>3859065</td>\n",
       "      <td>1737629</td>\n",
       "      <td>...</td>\n",
       "      <td>3750</td>\n",
       "      <td>1979596</td>\n",
       "      <td>399393</td>\n",
       "      <td>8407016</td>\n",
       "      <td>2355702</td>\n",
       "      <td>119292</td>\n",
       "      <td>1868758</td>\n",
       "      <td>1092663</td>\n",
       "      <td>875760</td>\n",
       "      <td>1272284</td>\n",
       "    </tr>\n",
       "    <tr>\n",
       "      <td>loan_advances</td>\n",
       "      <td>NaN</td>\n",
       "      <td>NaN</td>\n",
       "      <td>NaN</td>\n",
       "      <td>NaN</td>\n",
       "      <td>NaN</td>\n",
       "      <td>NaN</td>\n",
       "      <td>NaN</td>\n",
       "      <td>NaN</td>\n",
       "      <td>NaN</td>\n",
       "      <td>NaN</td>\n",
       "      <td>...</td>\n",
       "      <td>NaN</td>\n",
       "      <td>NaN</td>\n",
       "      <td>NaN</td>\n",
       "      <td>NaN</td>\n",
       "      <td>NaN</td>\n",
       "      <td>NaN</td>\n",
       "      <td>NaN</td>\n",
       "      <td>NaN</td>\n",
       "      <td>NaN</td>\n",
       "      <td>NaN</td>\n",
       "    </tr>\n",
       "  </tbody>\n",
       "</table>\n",
       "<p>5 rows × 146 columns</p>\n",
       "</div>"
      ],
      "text/plain": [
       "                  METTS MARK BAXTER JOHN C ELLIOTT STEVEN CORDES WILLIAM R  \\\n",
       "salary                365788        267102         170941              NaN   \n",
       "to_messages              807           NaN            NaN              764   \n",
       "deferral_payments        NaN       1295738            NaN              NaN   \n",
       "total_payments       1061827       5634343         211725              NaN   \n",
       "loan_advances            NaN           NaN            NaN              NaN   \n",
       "\n",
       "                  HANNON KEVIN P MORDAUNT KRISTINA M MEYER ROCKFORD G  \\\n",
       "salary                    243293              267093              NaN   \n",
       "to_messages                 1045                 NaN              232   \n",
       "deferral_payments            NaN                 NaN          1848227   \n",
       "total_payments            288682              628522          1848227   \n",
       "loan_advances                NaN                 NaN              NaN   \n",
       "\n",
       "                  MCMAHON JEFFREY HAEDICKE MARK E PIPER GREGORY F  ...  \\\n",
       "salary                     370448          374125          197091  ...   \n",
       "to_messages                  2355            4009            1238  ...   \n",
       "deferral_payments             NaN         2157527         1130036  ...   \n",
       "total_payments            4099771         3859065         1737629  ...   \n",
       "loan_advances                 NaN             NaN             NaN  ...   \n",
       "\n",
       "                  SAVAGE FRANK IZZO LAWRENCE L TILNEY ELIZABETH A  \\\n",
       "salary                     NaN           85274             247338   \n",
       "to_messages                NaN             496                460   \n",
       "deferral_payments          NaN             NaN                NaN   \n",
       "total_payments            3750         1979596             399393   \n",
       "loan_advances              NaN             NaN                NaN   \n",
       "\n",
       "                  MARTIN AMANDA K BUY RICHARD B GRAMM WENDY L  \\\n",
       "salary                     349487        330546           NaN   \n",
       "to_messages                  1522          3523           NaN   \n",
       "deferral_payments           85430        649584           NaN   \n",
       "total_payments            8407016       2355702        119292   \n",
       "loan_advances                 NaN           NaN           NaN   \n",
       "\n",
       "                  CAUSEY RICHARD A TAYLOR MITCHELL S DONAHUE JR JEFFREY M  \\\n",
       "salary                      415189            265214               278601   \n",
       "to_messages                   1892               533                  865   \n",
       "deferral_payments              NaN            227449                  NaN   \n",
       "total_payments             1868758           1092663               875760   \n",
       "loan_advances                  NaN               NaN                  NaN   \n",
       "\n",
       "                  GLISAN JR BEN F  \n",
       "salary                     274975  \n",
       "to_messages                   873  \n",
       "deferral_payments             NaN  \n",
       "total_payments            1272284  \n",
       "loan_advances                 NaN  \n",
       "\n",
       "[5 rows x 146 columns]"
      ]
     },
     "execution_count": 2,
     "metadata": {},
     "output_type": "execute_result"
    }
   ],
   "source": [
    "df.head()"
   ]
  },
  {
   "cell_type": "markdown",
   "metadata": {},
   "source": [
    "#### How many POIs are there in the E+F dataset?\n",
    "\n",
    "to find this first we need to transpose the data to make names in rows and features of every person in columns.\n"
   ]
  },
  {
   "cell_type": "code",
   "execution_count": 3,
   "metadata": {},
   "outputs": [],
   "source": [
    "df = df.transpose()"
   ]
  },
  {
   "cell_type": "code",
   "execution_count": 4,
   "metadata": {},
   "outputs": [
    {
     "data": {
      "text/plain": [
       "18"
      ]
     },
     "execution_count": 4,
     "metadata": {},
     "output_type": "execute_result"
    }
   ],
   "source": [
    "df['poi'].sum()"
   ]
  },
  {
   "cell_type": "markdown",
   "metadata": {},
   "source": [
    "### Some preprocessing"
   ]
  },
  {
   "cell_type": "code",
   "execution_count": 5,
   "metadata": {},
   "outputs": [],
   "source": [
    "df.reset_index(inplace = True)\n"
   ]
  },
  {
   "cell_type": "code",
   "execution_count": 6,
   "metadata": {},
   "outputs": [],
   "source": [
    "df = df.rename({'index': 'name'}, axis=1)"
   ]
  },
  {
   "cell_type": "code",
   "execution_count": 7,
   "metadata": {},
   "outputs": [
    {
     "data": {
      "text/html": [
       "<div>\n",
       "<style scoped>\n",
       "    .dataframe tbody tr th:only-of-type {\n",
       "        vertical-align: middle;\n",
       "    }\n",
       "\n",
       "    .dataframe tbody tr th {\n",
       "        vertical-align: top;\n",
       "    }\n",
       "\n",
       "    .dataframe thead th {\n",
       "        text-align: right;\n",
       "    }\n",
       "</style>\n",
       "<table border=\"1\" class=\"dataframe\">\n",
       "  <thead>\n",
       "    <tr style=\"text-align: right;\">\n",
       "      <th></th>\n",
       "      <th>name</th>\n",
       "      <th>salary</th>\n",
       "      <th>to_messages</th>\n",
       "      <th>deferral_payments</th>\n",
       "      <th>total_payments</th>\n",
       "      <th>loan_advances</th>\n",
       "      <th>bonus</th>\n",
       "      <th>email_address</th>\n",
       "      <th>restricted_stock_deferred</th>\n",
       "      <th>deferred_income</th>\n",
       "      <th>...</th>\n",
       "      <th>from_poi_to_this_person</th>\n",
       "      <th>exercised_stock_options</th>\n",
       "      <th>from_messages</th>\n",
       "      <th>other</th>\n",
       "      <th>from_this_person_to_poi</th>\n",
       "      <th>poi</th>\n",
       "      <th>long_term_incentive</th>\n",
       "      <th>shared_receipt_with_poi</th>\n",
       "      <th>restricted_stock</th>\n",
       "      <th>director_fees</th>\n",
       "    </tr>\n",
       "  </thead>\n",
       "  <tbody>\n",
       "    <tr>\n",
       "      <td>0</td>\n",
       "      <td>METTS MARK</td>\n",
       "      <td>365788</td>\n",
       "      <td>807</td>\n",
       "      <td>NaN</td>\n",
       "      <td>1061827</td>\n",
       "      <td>NaN</td>\n",
       "      <td>600000</td>\n",
       "      <td>mark.metts@enron.com</td>\n",
       "      <td>NaN</td>\n",
       "      <td>NaN</td>\n",
       "      <td>...</td>\n",
       "      <td>38</td>\n",
       "      <td>NaN</td>\n",
       "      <td>29</td>\n",
       "      <td>1740</td>\n",
       "      <td>1</td>\n",
       "      <td>False</td>\n",
       "      <td>NaN</td>\n",
       "      <td>702</td>\n",
       "      <td>585062</td>\n",
       "      <td>NaN</td>\n",
       "    </tr>\n",
       "    <tr>\n",
       "      <td>1</td>\n",
       "      <td>BAXTER JOHN C</td>\n",
       "      <td>267102</td>\n",
       "      <td>NaN</td>\n",
       "      <td>1295738</td>\n",
       "      <td>5634343</td>\n",
       "      <td>NaN</td>\n",
       "      <td>1200000</td>\n",
       "      <td>NaN</td>\n",
       "      <td>NaN</td>\n",
       "      <td>-1386055</td>\n",
       "      <td>...</td>\n",
       "      <td>NaN</td>\n",
       "      <td>6680544</td>\n",
       "      <td>NaN</td>\n",
       "      <td>2660303</td>\n",
       "      <td>NaN</td>\n",
       "      <td>False</td>\n",
       "      <td>1586055</td>\n",
       "      <td>NaN</td>\n",
       "      <td>3942714</td>\n",
       "      <td>NaN</td>\n",
       "    </tr>\n",
       "    <tr>\n",
       "      <td>2</td>\n",
       "      <td>ELLIOTT STEVEN</td>\n",
       "      <td>170941</td>\n",
       "      <td>NaN</td>\n",
       "      <td>NaN</td>\n",
       "      <td>211725</td>\n",
       "      <td>NaN</td>\n",
       "      <td>350000</td>\n",
       "      <td>steven.elliott@enron.com</td>\n",
       "      <td>NaN</td>\n",
       "      <td>-400729</td>\n",
       "      <td>...</td>\n",
       "      <td>NaN</td>\n",
       "      <td>4890344</td>\n",
       "      <td>NaN</td>\n",
       "      <td>12961</td>\n",
       "      <td>NaN</td>\n",
       "      <td>False</td>\n",
       "      <td>NaN</td>\n",
       "      <td>NaN</td>\n",
       "      <td>1788391</td>\n",
       "      <td>NaN</td>\n",
       "    </tr>\n",
       "    <tr>\n",
       "      <td>3</td>\n",
       "      <td>CORDES WILLIAM R</td>\n",
       "      <td>NaN</td>\n",
       "      <td>764</td>\n",
       "      <td>NaN</td>\n",
       "      <td>NaN</td>\n",
       "      <td>NaN</td>\n",
       "      <td>NaN</td>\n",
       "      <td>bill.cordes@enron.com</td>\n",
       "      <td>NaN</td>\n",
       "      <td>NaN</td>\n",
       "      <td>...</td>\n",
       "      <td>10</td>\n",
       "      <td>651850</td>\n",
       "      <td>12</td>\n",
       "      <td>NaN</td>\n",
       "      <td>0</td>\n",
       "      <td>False</td>\n",
       "      <td>NaN</td>\n",
       "      <td>58</td>\n",
       "      <td>386335</td>\n",
       "      <td>NaN</td>\n",
       "    </tr>\n",
       "    <tr>\n",
       "      <td>4</td>\n",
       "      <td>HANNON KEVIN P</td>\n",
       "      <td>243293</td>\n",
       "      <td>1045</td>\n",
       "      <td>NaN</td>\n",
       "      <td>288682</td>\n",
       "      <td>NaN</td>\n",
       "      <td>1500000</td>\n",
       "      <td>kevin.hannon@enron.com</td>\n",
       "      <td>NaN</td>\n",
       "      <td>-3117011</td>\n",
       "      <td>...</td>\n",
       "      <td>32</td>\n",
       "      <td>5538001</td>\n",
       "      <td>32</td>\n",
       "      <td>11350</td>\n",
       "      <td>21</td>\n",
       "      <td>True</td>\n",
       "      <td>1617011</td>\n",
       "      <td>1035</td>\n",
       "      <td>853064</td>\n",
       "      <td>NaN</td>\n",
       "    </tr>\n",
       "  </tbody>\n",
       "</table>\n",
       "<p>5 rows × 22 columns</p>\n",
       "</div>"
      ],
      "text/plain": [
       "               name  salary to_messages deferral_payments total_payments  \\\n",
       "0        METTS MARK  365788         807               NaN        1061827   \n",
       "1     BAXTER JOHN C  267102         NaN           1295738        5634343   \n",
       "2    ELLIOTT STEVEN  170941         NaN               NaN         211725   \n",
       "3  CORDES WILLIAM R     NaN         764               NaN            NaN   \n",
       "4    HANNON KEVIN P  243293        1045               NaN         288682   \n",
       "\n",
       "  loan_advances    bonus             email_address restricted_stock_deferred  \\\n",
       "0           NaN   600000      mark.metts@enron.com                       NaN   \n",
       "1           NaN  1200000                       NaN                       NaN   \n",
       "2           NaN   350000  steven.elliott@enron.com                       NaN   \n",
       "3           NaN      NaN     bill.cordes@enron.com                       NaN   \n",
       "4           NaN  1500000    kevin.hannon@enron.com                       NaN   \n",
       "\n",
       "  deferred_income  ... from_poi_to_this_person exercised_stock_options  \\\n",
       "0             NaN  ...                      38                     NaN   \n",
       "1        -1386055  ...                     NaN                 6680544   \n",
       "2         -400729  ...                     NaN                 4890344   \n",
       "3             NaN  ...                      10                  651850   \n",
       "4        -3117011  ...                      32                 5538001   \n",
       "\n",
       "  from_messages    other from_this_person_to_poi    poi long_term_incentive  \\\n",
       "0            29     1740                       1  False                 NaN   \n",
       "1           NaN  2660303                     NaN  False             1586055   \n",
       "2           NaN    12961                     NaN  False                 NaN   \n",
       "3            12      NaN                       0  False                 NaN   \n",
       "4            32    11350                      21   True             1617011   \n",
       "\n",
       "  shared_receipt_with_poi restricted_stock director_fees  \n",
       "0                     702           585062           NaN  \n",
       "1                     NaN          3942714           NaN  \n",
       "2                     NaN          1788391           NaN  \n",
       "3                      58           386335           NaN  \n",
       "4                    1035           853064           NaN  \n",
       "\n",
       "[5 rows x 22 columns]"
      ]
     },
     "execution_count": 7,
     "metadata": {},
     "output_type": "execute_result"
    }
   ],
   "source": [
    "df.head()"
   ]
  },
  {
   "cell_type": "code",
   "execution_count": 8,
   "metadata": {},
   "outputs": [],
   "source": [
    "names = pd.read_csv('../final_project/poi_names.txt', delimiter = ',',skiprows = 1)\n"
   ]
  },
  {
   "cell_type": "code",
   "execution_count": 9,
   "metadata": {},
   "outputs": [],
   "source": [
    "names['yes/no'] = \"\"\n",
    "for i in names.index:\n",
    "    names['yes/no'][i] = names['first_name'][i].split(')')[0].strip(\"(\")"
   ]
  },
  {
   "cell_type": "code",
   "execution_count": 10,
   "metadata": {},
   "outputs": [],
   "source": [
    "for i in names.index:\n",
    "    names['first_name'][i] = names['first_name'][i].split(')')[1].strip()"
   ]
  },
  {
   "cell_type": "code",
   "execution_count": 11,
   "metadata": {},
   "outputs": [],
   "source": [
    "names[\"full_name\"] = \"\"\n",
    "for i in names.index:\n",
    "    names['full_name'] =  names['last_name'] + \" \"+ names['first_name'].astype(str) "
   ]
  },
  {
   "cell_type": "code",
   "execution_count": 12,
   "metadata": {},
   "outputs": [
    {
     "data": {
      "text/html": [
       "<div>\n",
       "<style scoped>\n",
       "    .dataframe tbody tr th:only-of-type {\n",
       "        vertical-align: middle;\n",
       "    }\n",
       "\n",
       "    .dataframe tbody tr th {\n",
       "        vertical-align: top;\n",
       "    }\n",
       "\n",
       "    .dataframe thead th {\n",
       "        text-align: right;\n",
       "    }\n",
       "</style>\n",
       "<table border=\"1\" class=\"dataframe\">\n",
       "  <thead>\n",
       "    <tr style=\"text-align: right;\">\n",
       "      <th></th>\n",
       "      <th>first_name</th>\n",
       "      <th>last_name</th>\n",
       "      <th>yes/no</th>\n",
       "      <th>full_name</th>\n",
       "    </tr>\n",
       "  </thead>\n",
       "  <tbody>\n",
       "    <tr>\n",
       "      <td>0</td>\n",
       "      <td>Lay</td>\n",
       "      <td>Kenneth</td>\n",
       "      <td>y</td>\n",
       "      <td>Kenneth Lay</td>\n",
       "    </tr>\n",
       "    <tr>\n",
       "      <td>1</td>\n",
       "      <td>Skilling</td>\n",
       "      <td>Jeffrey</td>\n",
       "      <td>y</td>\n",
       "      <td>Jeffrey Skilling</td>\n",
       "    </tr>\n",
       "    <tr>\n",
       "      <td>2</td>\n",
       "      <td>Howard</td>\n",
       "      <td>Kevin</td>\n",
       "      <td>n</td>\n",
       "      <td>Kevin Howard</td>\n",
       "    </tr>\n",
       "    <tr>\n",
       "      <td>3</td>\n",
       "      <td>Krautz</td>\n",
       "      <td>Michael</td>\n",
       "      <td>n</td>\n",
       "      <td>Michael Krautz</td>\n",
       "    </tr>\n",
       "    <tr>\n",
       "      <td>4</td>\n",
       "      <td>Yeager</td>\n",
       "      <td>Scott</td>\n",
       "      <td>n</td>\n",
       "      <td>Scott Yeager</td>\n",
       "    </tr>\n",
       "  </tbody>\n",
       "</table>\n",
       "</div>"
      ],
      "text/plain": [
       "  first_name last_name yes/no          full_name\n",
       "0        Lay   Kenneth      y        Kenneth Lay\n",
       "1   Skilling   Jeffrey      y   Jeffrey Skilling\n",
       "2     Howard     Kevin      n       Kevin Howard\n",
       "3     Krautz   Michael      n     Michael Krautz\n",
       "4     Yeager     Scott      n       Scott Yeager"
      ]
     },
     "execution_count": 12,
     "metadata": {},
     "output_type": "execute_result"
    }
   ],
   "source": [
    "names.head()"
   ]
  },
  {
   "cell_type": "code",
   "execution_count": 13,
   "metadata": {},
   "outputs": [],
   "source": [
    "poi_list = list(names['full_name'].str.lower())\n"
   ]
  },
  {
   "cell_type": "markdown",
   "metadata": {},
   "source": [
    "#### how many POIs exists?"
   ]
  },
  {
   "cell_type": "code",
   "execution_count": 14,
   "metadata": {},
   "outputs": [
    {
     "data": {
      "text/plain": [
       "35"
      ]
     },
     "execution_count": 14,
     "metadata": {},
     "output_type": "execute_result"
    }
   ],
   "source": [
    "len(poi_list)"
   ]
  },
  {
   "cell_type": "markdown",
   "metadata": {},
   "source": [
    "### What is the total value of the stock belonging to James Prentice?\n"
   ]
  },
  {
   "cell_type": "code",
   "execution_count": 15,
   "metadata": {},
   "outputs": [],
   "source": [
    "df['name'] = df['name'].str.lower()"
   ]
  },
  {
   "cell_type": "code",
   "execution_count": 16,
   "metadata": {},
   "outputs": [
    {
     "data": {
      "text/plain": [
       "98    1095040\n",
       "Name: total_stock_value, dtype: object"
      ]
     },
     "execution_count": 16,
     "metadata": {},
     "output_type": "execute_result"
    }
   ],
   "source": [
    "df[df['name']== 'prentice james']['total_stock_value']"
   ]
  },
  {
   "cell_type": "code",
   "execution_count": 17,
   "metadata": {},
   "outputs": [
    {
     "data": {
      "text/plain": [
       "Index(['name', 'salary', 'to_messages', 'deferral_payments', 'total_payments',\n",
       "       'loan_advances', 'bonus', 'email_address', 'restricted_stock_deferred',\n",
       "       'deferred_income', 'total_stock_value', 'expenses',\n",
       "       'from_poi_to_this_person', 'exercised_stock_options', 'from_messages',\n",
       "       'other', 'from_this_person_to_poi', 'poi', 'long_term_incentive',\n",
       "       'shared_receipt_with_poi', 'restricted_stock', 'director_fees'],\n",
       "      dtype='object')"
      ]
     },
     "execution_count": 17,
     "metadata": {},
     "output_type": "execute_result"
    }
   ],
   "source": [
    "df.columns"
   ]
  },
  {
   "cell_type": "markdown",
   "metadata": {},
   "source": [
    "#### How many email messages do we have from Wesley Colwell to persons of interest?"
   ]
  },
  {
   "cell_type": "code",
   "execution_count": 18,
   "metadata": {},
   "outputs": [
    {
     "data": {
      "text/plain": [
       "16    11\n",
       "Name: from_this_person_to_poi, dtype: object"
      ]
     },
     "execution_count": 18,
     "metadata": {},
     "output_type": "execute_result"
    }
   ],
   "source": [
    "df[df['name'] == 'colwell wesley']['from_this_person_to_poi']"
   ]
  },
  {
   "cell_type": "markdown",
   "metadata": {},
   "source": [
    "#### What’s the value of stock options exercised by Jeffrey K Skilling?"
   ]
  },
  {
   "cell_type": "code",
   "execution_count": 19,
   "metadata": {},
   "outputs": [
    {
     "data": {
      "text/plain": [
       "95    19250000\n",
       "Name: exercised_stock_options, dtype: object"
      ]
     },
     "execution_count": 19,
     "metadata": {},
     "output_type": "execute_result"
    }
   ],
   "source": [
    "df[df['name'] == 'skilling jeffrey k']['exercised_stock_options']"
   ]
  },
  {
   "cell_type": "markdown",
   "metadata": {},
   "source": [
    "#### Of these three individuals (Lay, Skilling and Fastow), who took home the most money (largest value of “total_payments” feature)?\n",
    "\n",
    "#### How much money did that person get?"
   ]
  },
  {
   "cell_type": "code",
   "execution_count": 20,
   "metadata": {},
   "outputs": [],
   "source": [
    "import numpy as np\n",
    "total = df['total_payments'].astype('float').unique()\n",
    "t = total[~np.isnan(total)].astype('int64').max()\n"
   ]
  },
  {
   "cell_type": "code",
   "execution_count": 21,
   "metadata": {},
   "outputs": [
    {
     "data": {
      "text/html": [
       "<div>\n",
       "<style scoped>\n",
       "    .dataframe tbody tr th:only-of-type {\n",
       "        vertical-align: middle;\n",
       "    }\n",
       "\n",
       "    .dataframe tbody tr th {\n",
       "        vertical-align: top;\n",
       "    }\n",
       "\n",
       "    .dataframe thead th {\n",
       "        text-align: right;\n",
       "    }\n",
       "</style>\n",
       "<table border=\"1\" class=\"dataframe\">\n",
       "  <thead>\n",
       "    <tr style=\"text-align: right;\">\n",
       "      <th></th>\n",
       "      <th>name</th>\n",
       "      <th>salary</th>\n",
       "      <th>to_messages</th>\n",
       "      <th>deferral_payments</th>\n",
       "      <th>total_payments</th>\n",
       "      <th>loan_advances</th>\n",
       "      <th>bonus</th>\n",
       "      <th>email_address</th>\n",
       "      <th>restricted_stock_deferred</th>\n",
       "      <th>deferred_income</th>\n",
       "      <th>...</th>\n",
       "      <th>from_poi_to_this_person</th>\n",
       "      <th>exercised_stock_options</th>\n",
       "      <th>from_messages</th>\n",
       "      <th>other</th>\n",
       "      <th>from_this_person_to_poi</th>\n",
       "      <th>poi</th>\n",
       "      <th>long_term_incentive</th>\n",
       "      <th>shared_receipt_with_poi</th>\n",
       "      <th>restricted_stock</th>\n",
       "      <th>director_fees</th>\n",
       "    </tr>\n",
       "  </thead>\n",
       "  <tbody>\n",
       "    <tr>\n",
       "      <td>103</td>\n",
       "      <td>total</td>\n",
       "      <td>26704229</td>\n",
       "      <td>NaN</td>\n",
       "      <td>32083396</td>\n",
       "      <td>309886585</td>\n",
       "      <td>83925000</td>\n",
       "      <td>97343619</td>\n",
       "      <td>NaN</td>\n",
       "      <td>-7576788</td>\n",
       "      <td>-27992891</td>\n",
       "      <td>...</td>\n",
       "      <td>NaN</td>\n",
       "      <td>311764000</td>\n",
       "      <td>NaN</td>\n",
       "      <td>42667589</td>\n",
       "      <td>NaN</td>\n",
       "      <td>False</td>\n",
       "      <td>48521928</td>\n",
       "      <td>NaN</td>\n",
       "      <td>130322299</td>\n",
       "      <td>1398517</td>\n",
       "    </tr>\n",
       "  </tbody>\n",
       "</table>\n",
       "<p>1 rows × 22 columns</p>\n",
       "</div>"
      ],
      "text/plain": [
       "      name    salary to_messages deferral_payments total_payments  \\\n",
       "103  total  26704229         NaN          32083396      309886585   \n",
       "\n",
       "    loan_advances     bonus email_address restricted_stock_deferred  \\\n",
       "103      83925000  97343619           NaN                  -7576788   \n",
       "\n",
       "    deferred_income  ... from_poi_to_this_person exercised_stock_options  \\\n",
       "103       -27992891  ...                     NaN               311764000   \n",
       "\n",
       "    from_messages     other from_this_person_to_poi    poi  \\\n",
       "103           NaN  42667589                     NaN  False   \n",
       "\n",
       "    long_term_incentive shared_receipt_with_poi restricted_stock director_fees  \n",
       "103            48521928                     NaN        130322299       1398517  \n",
       "\n",
       "[1 rows x 22 columns]"
      ]
     },
     "execution_count": 21,
     "metadata": {},
     "output_type": "execute_result"
    }
   ],
   "source": [
    "df[df['total_payments'] == 309886585]"
   ]
  },
  {
   "cell_type": "code",
   "execution_count": 22,
   "metadata": {},
   "outputs": [
    {
     "data": {
      "text/plain": [
       "95    8682716\n",
       "Name: total_payments, dtype: object"
      ]
     },
     "execution_count": 22,
     "metadata": {},
     "output_type": "execute_result"
    }
   ],
   "source": [
    "df[df['name'] == 'skilling jeffrey k']['total_payments']"
   ]
  },
  {
   "cell_type": "code",
   "execution_count": 23,
   "metadata": {},
   "outputs": [
    {
     "data": {
      "text/plain": [
       "85    2424083\n",
       "Name: total_payments, dtype: object"
      ]
     },
     "execution_count": 23,
     "metadata": {},
     "output_type": "execute_result"
    }
   ],
   "source": [
    "df[df['name'] == 'fastow andrew s']['total_payments']"
   ]
  },
  {
   "cell_type": "code",
   "execution_count": 24,
   "metadata": {},
   "outputs": [
    {
     "data": {
      "text/plain": [
       "64    103559793\n",
       "Name: total_payments, dtype: object"
      ]
     },
     "execution_count": 24,
     "metadata": {},
     "output_type": "execute_result"
    }
   ],
   "source": [
    "df[df['name'] == 'lay kenneth l']['total_payments']"
   ]
  },
  {
   "cell_type": "markdown",
   "metadata": {},
   "source": [
    "#### How many folks in this dataset have a quantified salary? What about a known email address?"
   ]
  },
  {
   "cell_type": "code",
   "execution_count": 25,
   "metadata": {},
   "outputs": [
    {
     "data": {
      "text/plain": [
       "95"
      ]
     },
     "execution_count": 25,
     "metadata": {},
     "output_type": "execute_result"
    }
   ],
   "source": [
    "146 - sum(df['salary'].astype('str') == 'NaN')"
   ]
  },
  {
   "cell_type": "code",
   "execution_count": 26,
   "metadata": {},
   "outputs": [
    {
     "data": {
      "text/plain": [
       "111"
      ]
     },
     "execution_count": 26,
     "metadata": {},
     "output_type": "execute_result"
    }
   ],
   "source": [
    "146 - sum(df['email_address'] == 'NaN')"
   ]
  },
  {
   "cell_type": "markdown",
   "metadata": {},
   "source": [
    "#### How many people in the E+F dataset (as it currently exists) have “NaN” for their total payments? What percentage of people in the dataset as a whole is this?"
   ]
  },
  {
   "cell_type": "code",
   "execution_count": 27,
   "metadata": {},
   "outputs": [
    {
     "data": {
      "text/plain": [
       "21"
      ]
     },
     "execution_count": 27,
     "metadata": {},
     "output_type": "execute_result"
    }
   ],
   "source": [
    "nan_payments = sum(df['total_payments'].astype('str') == 'NaN')\n",
    "nan_payments"
   ]
  },
  {
   "cell_type": "code",
   "execution_count": 28,
   "metadata": {},
   "outputs": [
    {
     "data": {
      "text/plain": [
       "14.383561643835616"
      ]
     },
     "execution_count": 28,
     "metadata": {},
     "output_type": "execute_result"
    }
   ],
   "source": [
    "percentage = (nan_payments / 146)* 100\n",
    "percentage"
   ]
  },
  {
   "cell_type": "markdown",
   "metadata": {},
   "source": [
    "#### How many POIs in the E+F dataset have “NaN” for their total payments? What percentage of POI’s as a whole is this?"
   ]
  },
  {
   "cell_type": "code",
   "execution_count": 29,
   "metadata": {},
   "outputs": [
    {
     "data": {
      "text/plain": [
       "0"
      ]
     },
     "execution_count": 29,
     "metadata": {},
     "output_type": "execute_result"
    }
   ],
   "source": [
    "df[df.poi == True]['total_payments'].isna().sum()"
   ]
  },
  {
   "cell_type": "markdown",
   "metadata": {},
   "source": [
    "##### If you added in, say, 10 more data points which were all POI’s, and put “NaN” for the total payments for those folks, the numbers you just calculated would change.\n",
    "What is the new number of people of the dataset? What is the new number of folks with “NaN” for total payments?"
   ]
  },
  {
   "cell_type": "code",
   "execution_count": 30,
   "metadata": {},
   "outputs": [
    {
     "data": {
      "text/plain": [
       "156"
      ]
     },
     "execution_count": 30,
     "metadata": {},
     "output_type": "execute_result"
    }
   ],
   "source": [
    "#new number of people is 146+10 \n",
    "\n",
    "146+10"
   ]
  },
  {
   "cell_type": "code",
   "execution_count": 31,
   "metadata": {},
   "outputs": [
    {
     "data": {
      "text/plain": [
       "31"
      ]
     },
     "execution_count": 31,
     "metadata": {},
     "output_type": "execute_result"
    }
   ],
   "source": [
    "nan_payments +10"
   ]
  },
  {
   "cell_type": "code",
   "execution_count": 32,
   "metadata": {},
   "outputs": [
    {
     "data": {
      "text/plain": [
       "19.871794871794872"
      ]
     },
     "execution_count": 32,
     "metadata": {},
     "output_type": "execute_result"
    }
   ],
   "source": [
    "(31/156)*100  #percentage"
   ]
  },
  {
   "cell_type": "markdown",
   "metadata": {},
   "source": [
    "#### What is the new number of POI’s in the dataset? What is the new number of POI’s with NaN for total_payments?"
   ]
  },
  {
   "cell_type": "code",
   "execution_count": 33,
   "metadata": {},
   "outputs": [
    {
     "data": {
      "text/plain": [
       "28"
      ]
     },
     "execution_count": 33,
     "metadata": {},
     "output_type": "execute_result"
    }
   ],
   "source": [
    "10 + df['poi'].sum()"
   ]
  },
  {
   "cell_type": "code",
   "execution_count": 34,
   "metadata": {},
   "outputs": [
    {
     "data": {
      "text/plain": [
       "10"
      ]
     },
     "execution_count": 34,
     "metadata": {},
     "output_type": "execute_result"
    }
   ],
   "source": [
    "10"
   ]
  },
  {
   "cell_type": "code",
   "execution_count": 35,
   "metadata": {},
   "outputs": [
    {
     "data": {
      "text/plain": [
       "35.714285714285715"
      ]
     },
     "execution_count": 35,
     "metadata": {},
     "output_type": "execute_result"
    }
   ],
   "source": [
    "(10/28)*100"
   ]
  },
  {
   "cell_type": "code",
   "execution_count": 36,
   "metadata": {},
   "outputs": [
    {
     "data": {
      "text/plain": [
       "Index(['name', 'salary', 'to_messages', 'deferral_payments', 'total_payments',\n",
       "       'loan_advances', 'bonus', 'email_address', 'restricted_stock_deferred',\n",
       "       'deferred_income', 'total_stock_value', 'expenses',\n",
       "       'from_poi_to_this_person', 'exercised_stock_options', 'from_messages',\n",
       "       'other', 'from_this_person_to_poi', 'poi', 'long_term_incentive',\n",
       "       'shared_receipt_with_poi', 'restricted_stock', 'director_fees'],\n",
       "      dtype='object')"
      ]
     },
     "execution_count": 36,
     "metadata": {},
     "output_type": "execute_result"
    }
   ],
   "source": [
    "df.columns"
   ]
  },
  {
   "cell_type": "code",
   "execution_count": null,
   "metadata": {},
   "outputs": [],
   "source": []
  }
 ],
 "metadata": {
  "kernelspec": {
   "display_name": "Python 3",
   "language": "python",
   "name": "python3"
  },
  "language_info": {
   "codemirror_mode": {
    "name": "ipython",
    "version": 3
   },
   "file_extension": ".py",
   "mimetype": "text/x-python",
   "name": "python",
   "nbconvert_exporter": "python",
   "pygments_lexer": "ipython3",
   "version": "3.7.4"
  }
 },
 "nbformat": 4,
 "nbformat_minor": 2
}
